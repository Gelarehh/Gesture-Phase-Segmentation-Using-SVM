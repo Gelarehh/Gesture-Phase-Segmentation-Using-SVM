{
 "cells": [
  {
   "cell_type": "code",
   "execution_count": 1,
   "id": "867205fb",
   "metadata": {},
   "outputs": [],
   "source": [
    "import pandas as pd\n",
    "import pylab as pl\n",
    "import numpy as np\n",
    "import scipy.optimize as opt\n",
    "from sklearn import preprocessing\n",
    "from sklearn.model_selection import train_test_split\n",
    "%matplotlib inline \n",
    "import matplotlib.pyplot as plt"
   ]
  },
  {
   "cell_type": "code",
   "execution_count": 2,
   "id": "8d8ea081",
   "metadata": {},
   "outputs": [
    {
     "data": {
      "text/html": [
       "<div>\n",
       "<style scoped>\n",
       "    .dataframe tbody tr th:only-of-type {\n",
       "        vertical-align: middle;\n",
       "    }\n",
       "\n",
       "    .dataframe tbody tr th {\n",
       "        vertical-align: top;\n",
       "    }\n",
       "\n",
       "    .dataframe thead th {\n",
       "        text-align: right;\n",
       "    }\n",
       "</style>\n",
       "<table border=\"1\" class=\"dataframe\">\n",
       "  <thead>\n",
       "    <tr style=\"text-align: right;\">\n",
       "      <th></th>\n",
       "      <th>a</th>\n",
       "      <th>b</th>\n",
       "      <th>c</th>\n",
       "      <th>d</th>\n",
       "      <th>e</th>\n",
       "      <th>f</th>\n",
       "      <th>g</th>\n",
       "      <th>h</th>\n",
       "      <th>i</th>\n",
       "      <th>j</th>\n",
       "      <th>...</th>\n",
       "      <th>x</th>\n",
       "      <th>y</th>\n",
       "      <th>z</th>\n",
       "      <th>aa</th>\n",
       "      <th>ab</th>\n",
       "      <th>ac</th>\n",
       "      <th>ad</th>\n",
       "      <th>ae</th>\n",
       "      <th>af</th>\n",
       "      <th>ag</th>\n",
       "    </tr>\n",
       "  </thead>\n",
       "  <tbody>\n",
       "    <tr>\n",
       "      <th>1</th>\n",
       "      <td>0.000036</td>\n",
       "      <td>-0.000024</td>\n",
       "      <td>0.000007</td>\n",
       "      <td>-0.000237</td>\n",
       "      <td>-0.000109</td>\n",
       "      <td>-0.000013</td>\n",
       "      <td>0.000037</td>\n",
       "      <td>-0.000022</td>\n",
       "      <td>0.000006</td>\n",
       "      <td>-0.000237</td>\n",
       "      <td>...</td>\n",
       "      <td>-0.000011</td>\n",
       "      <td>0.000044</td>\n",
       "      <td>0.000261</td>\n",
       "      <td>0.000043</td>\n",
       "      <td>0.000260</td>\n",
       "      <td>0.000024</td>\n",
       "      <td>0.000080</td>\n",
       "      <td>0.000025</td>\n",
       "      <td>0.000080</td>\n",
       "      <td>D</td>\n",
       "    </tr>\n",
       "    <tr>\n",
       "      <th>2</th>\n",
       "      <td>0.000084</td>\n",
       "      <td>-0.000054</td>\n",
       "      <td>0.000008</td>\n",
       "      <td>0.000094</td>\n",
       "      <td>-0.000006</td>\n",
       "      <td>0.000010</td>\n",
       "      <td>0.000086</td>\n",
       "      <td>-0.000048</td>\n",
       "      <td>0.000007</td>\n",
       "      <td>0.000094</td>\n",
       "      <td>...</td>\n",
       "      <td>0.000011</td>\n",
       "      <td>0.000100</td>\n",
       "      <td>0.000094</td>\n",
       "      <td>0.000099</td>\n",
       "      <td>0.000094</td>\n",
       "      <td>0.000026</td>\n",
       "      <td>0.000158</td>\n",
       "      <td>0.000025</td>\n",
       "      <td>0.000158</td>\n",
       "      <td>D</td>\n",
       "    </tr>\n",
       "    <tr>\n",
       "      <th>3</th>\n",
       "      <td>0.000932</td>\n",
       "      <td>0.001428</td>\n",
       "      <td>-0.000172</td>\n",
       "      <td>0.000283</td>\n",
       "      <td>0.000106</td>\n",
       "      <td>0.000033</td>\n",
       "      <td>0.000900</td>\n",
       "      <td>0.000991</td>\n",
       "      <td>-0.000127</td>\n",
       "      <td>0.000283</td>\n",
       "      <td>...</td>\n",
       "      <td>0.000007</td>\n",
       "      <td>0.001714</td>\n",
       "      <td>0.000304</td>\n",
       "      <td>0.001344</td>\n",
       "      <td>0.000306</td>\n",
       "      <td>0.000554</td>\n",
       "      <td>0.000071</td>\n",
       "      <td>0.000428</td>\n",
       "      <td>0.000071</td>\n",
       "      <td>D</td>\n",
       "    </tr>\n",
       "    <tr>\n",
       "      <th>4</th>\n",
       "      <td>0.000579</td>\n",
       "      <td>0.000936</td>\n",
       "      <td>-0.000078</td>\n",
       "      <td>0.000228</td>\n",
       "      <td>0.000074</td>\n",
       "      <td>0.000023</td>\n",
       "      <td>0.000580</td>\n",
       "      <td>0.000933</td>\n",
       "      <td>-0.000078</td>\n",
       "      <td>0.000228</td>\n",
       "      <td>...</td>\n",
       "      <td>-0.000002</td>\n",
       "      <td>0.001103</td>\n",
       "      <td>0.000241</td>\n",
       "      <td>0.001101</td>\n",
       "      <td>0.000242</td>\n",
       "      <td>0.000130</td>\n",
       "      <td>0.000014</td>\n",
       "      <td>0.000070</td>\n",
       "      <td>0.000014</td>\n",
       "      <td>D</td>\n",
       "    </tr>\n",
       "    <tr>\n",
       "      <th>5</th>\n",
       "      <td>0.000507</td>\n",
       "      <td>0.000940</td>\n",
       "      <td>-0.000053</td>\n",
       "      <td>0.000170</td>\n",
       "      <td>0.000066</td>\n",
       "      <td>0.000011</td>\n",
       "      <td>0.000495</td>\n",
       "      <td>0.000789</td>\n",
       "      <td>-0.000037</td>\n",
       "      <td>0.000170</td>\n",
       "      <td>...</td>\n",
       "      <td>-0.000008</td>\n",
       "      <td>0.001070</td>\n",
       "      <td>0.000183</td>\n",
       "      <td>0.000932</td>\n",
       "      <td>0.000184</td>\n",
       "      <td>0.000047</td>\n",
       "      <td>0.000037</td>\n",
       "      <td>0.000108</td>\n",
       "      <td>0.000037</td>\n",
       "      <td>D</td>\n",
       "    </tr>\n",
       "  </tbody>\n",
       "</table>\n",
       "<p>5 rows × 33 columns</p>\n",
       "</div>"
      ],
      "text/plain": [
       "          a         b         c         d         e         f         g  \\\n",
       "1  0.000036 -0.000024  0.000007 -0.000237 -0.000109 -0.000013  0.000037   \n",
       "2  0.000084 -0.000054  0.000008  0.000094 -0.000006  0.000010  0.000086   \n",
       "3  0.000932  0.001428 -0.000172  0.000283  0.000106  0.000033  0.000900   \n",
       "4  0.000579  0.000936 -0.000078  0.000228  0.000074  0.000023  0.000580   \n",
       "5  0.000507  0.000940 -0.000053  0.000170  0.000066  0.000011  0.000495   \n",
       "\n",
       "          h         i         j  ...         x         y         z        aa  \\\n",
       "1 -0.000022  0.000006 -0.000237  ... -0.000011  0.000044  0.000261  0.000043   \n",
       "2 -0.000048  0.000007  0.000094  ...  0.000011  0.000100  0.000094  0.000099   \n",
       "3  0.000991 -0.000127  0.000283  ...  0.000007  0.001714  0.000304  0.001344   \n",
       "4  0.000933 -0.000078  0.000228  ... -0.000002  0.001103  0.000241  0.001101   \n",
       "5  0.000789 -0.000037  0.000170  ... -0.000008  0.001070  0.000183  0.000932   \n",
       "\n",
       "         ab        ac        ad        ae        af  ag  \n",
       "1  0.000260  0.000024  0.000080  0.000025  0.000080   D  \n",
       "2  0.000094  0.000026  0.000158  0.000025  0.000158   D  \n",
       "3  0.000306  0.000554  0.000071  0.000428  0.000071   D  \n",
       "4  0.000242  0.000130  0.000014  0.000070  0.000014   D  \n",
       "5  0.000184  0.000047  0.000037  0.000108  0.000037   D  \n",
       "\n",
       "[5 rows x 33 columns]"
      ]
     },
     "execution_count": 2,
     "metadata": {},
     "output_type": "execute_result"
    }
   ],
   "source": [
    "# Downloading Dataset\n",
    "colname = ['a', 'b', 'c', 'd', 'e', 'f', 'g', 'h', 'i', 'j', 'k', 'l', 'm', 'n', 'o', 'p', 'q', 'r', 's', 't', 'u', 'v', 'w', 'x', 'y', 'z', 'aa', 'ab', 'ac', 'ad', 'ae', 'af', 'ag']\n",
    "df = pd.read_csv(\"svm dataset.csv", names=colname)\n",
    "df = df.drop(0, axis=0)\n",
    "df.head()"
   ]
  },
  {
   "cell_type": "code",
   "execution_count": 3,
   "id": "97e6971e",
   "metadata": {},
   "outputs": [
    {
     "data": {
      "text/plain": [
       "a     float64\n",
       "b     float64\n",
       "c     float64\n",
       "d     float64\n",
       "e     float64\n",
       "f     float64\n",
       "g     float64\n",
       "h     float64\n",
       "i     float64\n",
       "j     float64\n",
       "k     float64\n",
       "l     float64\n",
       "m     float64\n",
       "n     float64\n",
       "o     float64\n",
       "p     float64\n",
       "q     float64\n",
       "r     float64\n",
       "s     float64\n",
       "t     float64\n",
       "u     float64\n",
       "v     float64\n",
       "w     float64\n",
       "x     float64\n",
       "y     float64\n",
       "z     float64\n",
       "aa    float64\n",
       "ab    float64\n",
       "ac    float64\n",
       "ad    float64\n",
       "ae    float64\n",
       "af    float64\n",
       "ag     object\n",
       "dtype: object"
      ]
     },
     "execution_count": 3,
     "metadata": {},
     "output_type": "execute_result"
    }
   ],
   "source": [
    "df.dtypes"
   ]
  },
  {
   "cell_type": "code",
   "execution_count": 4,
   "id": "6cc6302d",
   "metadata": {},
   "outputs": [
    {
     "data": {
      "text/plain": [
       "array([[ 3.6200e-05, -2.4170e-05,  6.6400e-06, -2.3693e-04, -1.0894e-04,\n",
       "        -1.3220e-05,  3.7070e-05, -2.1540e-05,  6.1100e-06, -2.3696e-04,\n",
       "        -1.0701e-04, -1.2900e-05,  1.9650e-05,  1.4220e-05, -2.8400e-06,\n",
       "        -7.8450e-05, -8.7800e-06, -1.0670e-05,  1.9920e-05,  1.5020e-05,\n",
       "        -3.0100e-06, -7.8590e-05, -7.7200e-06, -1.0750e-05,  4.4040e-05,\n",
       "         2.6111e-04,  4.3300e-05,  2.6032e-04,  2.4420e-05,  7.9660e-05,\n",
       "         2.5130e-05,  7.9700e-05],\n",
       "       [ 8.4380e-05, -5.3880e-05,  8.1900e-06,  9.3700e-05, -5.9700e-06,\n",
       "         1.0400e-05,  8.6220e-05, -4.8190e-05,  7.0800e-06,  9.3510e-05,\n",
       "        -4.0000e-08,  1.0530e-05,  2.1900e-05, -1.3500e-05,  7.1000e-07,\n",
       "         1.5029e-04,  4.6810e-05,  1.0730e-05,  2.2340e-05, -1.2120e-05,\n",
       "         4.4000e-07,  1.5021e-04,  4.8630e-05,  1.0650e-05,  1.0045e-04,\n",
       "         9.4470e-05,  9.9030e-05,  9.4100e-05,  2.5740e-05,  1.5777e-04,\n",
       "         2.5420e-05,  1.5825e-04]])"
      ]
     },
     "execution_count": 4,
     "metadata": {},
     "output_type": "execute_result"
    }
   ],
   "source": [
    "feature_df = df[['a', 'b', 'c', 'd', 'e', 'f', 'g', 'h', 'i', 'j', 'k', 'l', 'm', 'n', 'o', 'p', 'q', 'r', 's', 't', 'u', 'v', 'w', 'x', 'y', 'z', 'aa', 'ab', 'ac', 'ad', 'ae', 'af']]\n",
    "X = np.asarray(feature_df)\n",
    "X[0:2]"
   ]
  },
  {
   "cell_type": "code",
   "execution_count": 5,
   "id": "74265488",
   "metadata": {},
   "outputs": [
    {
     "data": {
      "text/plain": [
       "array(['D', 'D', 'D', 'D', 'D', 'D', 'D', 'D', 'D', 'D', 'D', 'D', 'D',\n",
       "       'D', 'D', 'D', 'D', 'D', 'D', 'D', 'D', 'D', 'D', 'D', 'D', 'D',\n",
       "       'D', 'D', 'P', 'P', 'P', 'P', 'P', 'P', 'P', 'P', 'P', 'P', 'P',\n",
       "       'P', 'P', 'P', 'P', 'P', 'P', 'P', 'P', 'P', 'P', 'P', 'P', 'P',\n",
       "       'P', 'P', 'P', 'P', 'P', 'S', 'S', 'S', 'S', 'S', 'S', 'S', 'S',\n",
       "       'S', 'S', 'S', 'S', 'S'], dtype=object)"
      ]
     },
     "execution_count": 5,
     "metadata": {},
     "output_type": "execute_result"
    }
   ],
   "source": [
    "y = np.asarray(df['ag'])\n",
    "y[0:70]"
   ]
  },
  {
   "cell_type": "code",
   "execution_count": 6,
   "id": "a4ff89c4",
   "metadata": {},
   "outputs": [
    {
     "name": "stdout",
     "output_type": "stream",
     "text": [
      "Train set: (885, 32) (885,)\n",
      "Test set: (222, 32) (222,)\n"
     ]
    }
   ],
   "source": [
    "# Train-Test Splitting\n",
    "\n",
    "X_train, X_test, y_train, y_test = train_test_split( X, y, test_size=0.2, random_state=4)\n",
    "print ('Train set:', X_train.shape,  y_train.shape)\n",
    "print ('Test set:', X_test.shape,  y_test.shape)"
   ]
  },
  {
   "cell_type": "code",
   "execution_count": 7,
   "id": "d19ff074",
   "metadata": {},
   "outputs": [
    {
     "data": {
      "text/plain": [
       "array(['P', 'D', 'S', 'D', 'D', 'P', 'P', 'D', 'D', 'D', 'R', 'P', 'S',\n",
       "       'D', 'P', 'P', 'S', 'R', 'D', 'D'], dtype=object)"
      ]
     },
     "execution_count": 7,
     "metadata": {},
     "output_type": "execute_result"
    }
   ],
   "source": [
    "# Modeling\n",
    "\n",
    "from sklearn import svm\n",
    "clf = svm.SVC(kernel='rbf') #radial basis function\n",
    "clf.fit(X_train, y_train)\n",
    "\n",
    "yhat = clf.predict(X_test)\n",
    "yhat [0:20]"
   ]
  },
  {
   "cell_type": "code",
   "execution_count": 8,
   "id": "8ea5326d",
   "metadata": {},
   "outputs": [
    {
     "data": {
      "text/plain": [
       "0.5405405405405406"
      ]
     },
     "execution_count": 8,
     "metadata": {},
     "output_type": "execute_result"
    }
   ],
   "source": [
    "# F1_Score Evaluation\n",
    "\n",
    "from sklearn.metrics import f1_score\n",
    "f1_score(y_test, yhat, average='micro')"
   ]
  },
  {
   "cell_type": "code",
   "execution_count": 9,
   "id": "ea0b32f7",
   "metadata": {},
   "outputs": [
    {
     "data": {
      "text/plain": [
       "0.37037037037037035"
      ]
     },
     "execution_count": 9,
     "metadata": {},
     "output_type": "execute_result"
    }
   ],
   "source": [
    "# Jaccard Index Evaluation\n",
    "\n",
    "from sklearn.metrics import jaccard_score\n",
    "jaccard_score(y_test, yhat, average='micro')"
   ]
  }
 ],
 "metadata": {
  "kernelspec": {
   "display_name": "Python 3",
   "language": "python",
   "name": "python3"
  },
  "language_info": {
   "codemirror_mode": {
    "name": "ipython",
    "version": 3
   },
   "file_extension": ".py",
   "mimetype": "text/x-python",
   "name": "python",
   "nbconvert_exporter": "python",
   "pygments_lexer": "ipython3",
   "version": "3.8.8"
  }
 },
 "nbformat": 4,
 "nbformat_minor": 5
}
